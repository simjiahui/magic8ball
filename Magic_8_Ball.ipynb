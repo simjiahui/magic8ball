{
  "nbformat": 4,
  "nbformat_minor": 0,
  "metadata": {
    "colab": {
      "name": "Magic 8 Ball.ipynb",
      "provenance": [],
      "collapsed_sections": [],
      "authorship_tag": "ABX9TyOfOi09UXO+iVOCHRWWB843",
      "include_colab_link": true
    },
    "kernelspec": {
      "name": "python3",
      "display_name": "Python 3"
    },
    "language_info": {
      "name": "python"
    }
  },
  "cells": [
    {
      "cell_type": "markdown",
      "metadata": {
        "id": "view-in-github",
        "colab_type": "text"
      },
      "source": [
        "<a href=\"https://colab.research.google.com/github/simjiahui/magic8ball/blob/main/Magic_8_Ball.ipynb\" target=\"_parent\"><img src=\"https://colab.research.google.com/assets/colab-badge.svg\" alt=\"Open In Colab\"/></a>"
      ]
    },
    {
      "cell_type": "markdown",
      "source": [
        "# Basic Magic 8 Ball Project\n",
        "\n",
        "A program that allows users to input a question, which will have 10 possible answers by the Magic 8 Ball."
      ],
      "metadata": {
        "id": "Td9KnSTxh5-_"
      }
    },
    {
      "cell_type": "code",
      "execution_count": null,
      "metadata": {
        "id": "CqAmbcAokCXW"
      },
      "outputs": [],
      "source": [
        "#Import the libraries\n",
        "import random\n",
        "import time"
      ]
    },
    {
      "cell_type": "code",
      "source": [
        "#List of answers to choose from\n",
        "answers = ['Yes!', 'Of course!', 'No!', 'You\\'d better not!', 'Please concentrate harder and ask again.', 'Depends on you.',\n",
        "           'There is a slight possibility...', 'I don\\'t think so.', 'Outlook good.', 'Outlook not so good.',]"
      ],
      "metadata": {
        "id": "IdqeefTbi_MZ"
      },
      "execution_count": null,
      "outputs": []
    },
    {
      "cell_type": "code",
      "source": [
        "#Define the function if user wants to ask another question\n",
        "def Replay():\n",
        "  print ('Do you have another question? Type Y for yes, and N for no.')\n",
        "  reply = input()\n",
        "  if reply == 'Y':\n",
        "    Magic8Ball()\n",
        "  elif reply == 'N':\n",
        "    print('\\nThanks for playing! Byeeee~')\n",
        "    exit\n",
        "  else:\n",
        "    print('\\nError: You typed something other than \\'Y\\' or \\'N\\'.')\n",
        "    Replay()"
      ],
      "metadata": {
        "id": "tnJ9MC1kkVml"
      },
      "execution_count": null,
      "outputs": []
    },
    {
      "cell_type": "code",
      "source": [
        "#Define the Magic 8 Ball function\n",
        "def Magic8Ball():\n",
        "    print('Concentrate and ask me a question.')\n",
        "    input()\n",
        "\n",
        "    #Delay output for 1 second each\n",
        "    print(\"Thinking...\")\n",
        "    time.sleep(0.5)\n",
        "    print(\"3...\")\n",
        "    time.sleep(0.5)\n",
        "    print(\"2...\")\n",
        "    time.sleep(0.5)\n",
        "    print(\"1...\")\n",
        "    time.sleep(0.5)\n",
        "    print()\n",
        "\n",
        "    print ('\\n',answers[random.randint(0, len(answers)-1)], '\\n')\n",
        "    Replay()"
      ],
      "metadata": {
        "id": "tmQXMmxlidPg"
      },
      "execution_count": null,
      "outputs": []
    },
    {
      "cell_type": "code",
      "source": [
        "#Output\n",
        "print('Hello World, I am the Magic 8 Ball, What is your name?')\n",
        "name = input()\n",
        "print('\\nHello,', name)\n",
        "\n",
        "Magic8Ball()"
      ],
      "metadata": {
        "colab": {
          "base_uri": "https://localhost:8080/"
        },
        "id": "54-fYOaVl6xQ",
        "outputId": "fdf9cef4-28eb-4aab-a281-5fe0a88b55c4"
      },
      "execution_count": null,
      "outputs": [
        {
          "output_type": "stream",
          "name": "stdout",
          "text": [
            "Hello World, I am the Magic 8 Ball, What is your name?\n",
            "Ashley\n",
            "\n",
            "Hello, Ashley\n",
            "Concentrate and ask me a question.\n",
            "Am I having rice for dinner tomorrow?\n",
            "Thinking...\n",
            "3...\n",
            "2...\n",
            "1...\n",
            "\n",
            "\n",
            " Please concentrate harder and ask again. \n",
            "\n",
            "Do you have another question? Type Y for yes, and N for no.\n",
            "O\n",
            "\n",
            "Error: You typed something other than 'Y' or 'N'.\n",
            "Do you have another question? Type Y for yes, and N for no.\n",
            "Y\n",
            "Concentrate and ask me a question.\n",
            "Will I have rice with meat for dinner tomorrow?\n",
            "Thinking...\n",
            "3...\n",
            "2...\n",
            "1...\n",
            "\n",
            "\n",
            " Outlook not so good. \n",
            "\n",
            "Do you have another question? Type Y for yes, and N for no.\n",
            "N\n",
            "\n",
            "Thanks for playing! Byeeee~\n"
          ]
        }
      ]
    }
  ]
}